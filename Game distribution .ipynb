{
 "cells": [
  {
   "cell_type": "code",
   "execution_count": null,
   "metadata": {},
   "outputs": [],
   "source": [
    "#create a function to store the game\n",
    "def playgame():\n",
    "    #each player starts with 4 coins and the pot has 2\n",
    "    coins_a = 4 \n",
    "    coins_b = 4\n",
    "    pot = 2\n",
    "    cycles = 0\n",
    "\n",
    "    while True:\n",
    "        # Player A's turn\n",
    "        roll = random.randint(1, 6)\n",
    "        if roll == 1:\n",
    "            pass\n",
    "        elif roll == 2:\n",
    "            coins_a += pot\n",
    "            pot = 0\n",
    "        elif roll == 3:\n",
    "            coins_a += pot // 2\n",
    "            pot -= pot // 2\n",
    "        else:\n",
    "            if coins_a == 0:\n",
    "                return cycles+1\n",
    "            pot += 1\n",
    "            coins_a -= 1\n",
    "\n",
    "\n",
    "        #Player B's turn\n",
    "        roll = random.randint(1, 6)\n",
    "        if roll == 1:\n",
    "            pass\n",
    "        elif roll == 2:\n",
    "            coins_b += pot\n",
    "            pot = 0\n",
    "        elif roll == 3:\n",
    "            coins_b += pot // 2\n",
    "            pot -= pot // 2\n",
    "        else:\n",
    "            if coins_b == 0:\n",
    "                return cycles + 1\n",
    "            pot += 1\n",
    "            coins_b -= 1\n",
    "\n",
    "        cycles += 1"
   ]
  }
 ],
 "metadata": {
  "kernelspec": {
   "display_name": "mlenv",
   "language": "python",
   "name": "mlenv"
  },
  "language_info": {
   "codemirror_mode": {
    "name": "ipython",
    "version": 3
   },
   "file_extension": ".py",
   "mimetype": "text/x-python",
   "name": "python",
   "nbconvert_exporter": "python",
   "pygments_lexer": "ipython3",
   "version": "3.7.7"
  }
 },
 "nbformat": 4,
 "nbformat_minor": 4
}
